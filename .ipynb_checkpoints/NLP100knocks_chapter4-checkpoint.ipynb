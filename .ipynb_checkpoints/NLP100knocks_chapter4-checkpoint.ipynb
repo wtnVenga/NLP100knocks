{
 "cells": [
  {
   "cell_type": "markdown",
   "metadata": {},
   "source": [
    "# 第4章: 形態素解析"
   ]
  },
  {
   "cell_type": "markdown",
   "metadata": {},
   "source": [
    "夏目漱石の小説『吾輩は猫である』の文章（neko.txt）をMeCabを使って形態素解析し，その結果をneko.txt.mecabというファイルに保存せよ．このファイルを用いて，以下の問に対応するプログラムを実装せよ．\n",
    "\n",
    "なお，問題37, 38, 39はmatplotlibもしくはGnuplotを用いるとよい．"
   ]
  },
  {
   "cell_type": "code",
   "execution_count": 1,
   "metadata": {},
   "outputs": [
    {
     "name": "stdout",
     "output_type": "stream",
     "text": [
      "['\\n',\n",
      " '\\u3000吾輩は猫である。\\n',\n",
      " '名前はまだ無い。\\n',\n",
      " '\\n',\n",
      " '\\u3000どこで生れたかとんと見当がつかぬ。\\n',\n",
      " '何でも薄暗いじめじめした所でニャーニャー泣いていた事だけは記憶している。\\n',\n",
      " '吾輩はここで始めて人間というものを見た。\\n',\n",
      " 'しかもあとで聞くとそれは書生という人間中で一番獰悪な種族であったそうだ。\\n',\n",
      " 'この書生というのは時々我々を捕えて煮て食うという話である。\\n']\n"
     ]
    }
   ],
   "source": [
    "from pprint import pprint\n",
    "\n",
    "with open(\"./datasets/neko.txt\") as neko:\n",
    "    lines = neko.readlines()\n",
    "    pprint(lines[1:10])\n",
    "    neko.close()"
   ]
  },
  {
   "cell_type": "markdown",
   "metadata": {},
   "source": [
    "## 30. 形態素解析結果の読み込み\n",
    "形態素解析結果（neko.txt.mecab）を読み込むプログラムを実装せよ．ただし，各形態素は表層形（surface），基本形（base），品詞（pos），品詞細分類1（pos1）をキーとするマッピング型に格納し，1文を形態素（マッピング型）のリストとして表現せよ．第4章の残りの問題では，ここで作ったプログラムを活用せよ．"
   ]
  },
  {
   "cell_type": "code",
   "execution_count": 2,
   "metadata": {},
   "outputs": [],
   "source": [
    "import re\n",
    "import MeCab\n",
    "\n",
    "def make_neko_mecab(input_path,output_path):\n",
    "    with open(input_path,\"r\") as inputs, open(output_path,\"w\") as outputs:\n",
    "        \n",
    "        mt = MeCab.Tagger('mecabrc')\n",
    "        result = list()\n",
    "        outputs.write(mt.parse(inputs.read()))\n",
    "                      \n",
    "\n",
    "def neko_txt_mecab(mecab_file):\n",
    "    with open(mecab_file,\"r\") as inputs:\n",
    "        \n",
    "        result_list = list()\n",
    "        \n",
    "        for line in inputs:\n",
    "            line_elements = re.sub('\\t',\",\",line)\n",
    "            extracted = line_elements.split(\",\")\n",
    "            \n",
    "            if(len(extracted) == 1):\n",
    "                continue\n",
    "            \n",
    "            result_dict = {\n",
    "                #表層形\n",
    "                'surface': extracted[0],\n",
    "                #基本形\n",
    "                'base': extracted[7],\n",
    "                #品詞\n",
    "                'pos': extracted[1],\n",
    "                #品詞細分類1\n",
    "                'pos1': extracted[2],\n",
    "            }\n",
    "            result_list.append(result_dict)\n",
    "            \n",
    "            if extracted[2] == \"句点\":\n",
    "                yield result_list\n",
    "                result_list = list()"
   ]
  },
  {
   "cell_type": "code",
   "execution_count": 3,
   "metadata": {},
   "outputs": [
    {
     "name": "stdout",
     "output_type": "stream",
     "text": [
      "[[{'base': '一', 'pos': '名詞', 'pos1': '数', 'surface': '一'},\n",
      "  {'base': '\\u3000', 'pos': '記号', 'pos1': '空白', 'surface': '\\u3000'},\n",
      "  {'base': '吾輩', 'pos': '名詞', 'pos1': '代名詞', 'surface': '吾輩'},\n",
      "  {'base': 'は', 'pos': '助詞', 'pos1': '係助詞', 'surface': 'は'},\n",
      "  {'base': '猫', 'pos': '名詞', 'pos1': '一般', 'surface': '猫'},\n",
      "  {'base': 'だ', 'pos': '助動詞', 'pos1': '*', 'surface': 'で'},\n",
      "  {'base': 'ある', 'pos': '助動詞', 'pos1': '*', 'surface': 'ある'},\n",
      "  {'base': '。', 'pos': '記号', 'pos1': '句点', 'surface': '。'}],\n",
      " [{'base': '名前', 'pos': '名詞', 'pos1': '一般', 'surface': '名前'},\n",
      "  {'base': 'は', 'pos': '助詞', 'pos1': '係助詞', 'surface': 'は'},\n",
      "  {'base': 'まだ', 'pos': '副詞', 'pos1': '助詞類接続', 'surface': 'まだ'},\n",
      "  {'base': '無い', 'pos': '形容詞', 'pos1': '自立', 'surface': '無い'},\n",
      "  {'base': '。', 'pos': '記号', 'pos1': '句点', 'surface': '。'}]]\n"
     ]
    }
   ],
   "source": [
    "make_neko_mecab(\"./datasets/neko.txt\",\"./datasets/neko_txt_mecab.txt\")\n",
    "check = neko_txt_mecab(\"./datasets/neko_txt_mecab.txt\")\n",
    "\n",
    "for_write = list()\n",
    "for i in check:\n",
    "    for_write.append(i)\n",
    "pprint(for_write[0:2])"
   ]
  },
  {
   "cell_type": "markdown",
   "metadata": {},
   "source": [
    "## 31. 動詞\n",
    "動詞の表層形をすべて抽出せよ．"
   ]
  },
  {
   "cell_type": "code",
   "execution_count": 31,
   "metadata": {},
   "outputs": [
    {
     "name": "stdout",
     "output_type": "stream",
     "text": [
      "['あ', 'あい', 'あい', 'あい', 'あい', 'あい', 'あい', 'あい', 'あい', 'あい']\n"
     ]
    }
   ],
   "source": [
    "outputs = list()\n",
    "\n",
    "for listline in for_write:\n",
    "    for dictline in listline:\n",
    "        if dictline[\"pos\"] == \"動詞\":\n",
    "            outputs.append(dictline[\"surface\"])\n",
    "\n",
    "pprint(sorted(outputs)[0:10])"
   ]
  },
  {
   "cell_type": "markdown",
   "metadata": {},
   "source": [
    "## 32. 動詞の原形\n",
    "動詞の原形をすべて抽出せよ．"
   ]
  },
  {
   "cell_type": "code",
   "execution_count": 19,
   "metadata": {},
   "outputs": [
    {
     "name": "stdout",
     "output_type": "stream",
     "text": [
      "['あいかわる', 'あいかわる', 'あう', 'あう', 'あう', 'あがる', 'あがる', 'あがる', 'あがる', 'あがる']\n"
     ]
    }
   ],
   "source": [
    "outputs = list()\n",
    "\n",
    "for listline in for_write:\n",
    "    for dictline in listline:\n",
    "        if dictline[\"pos\"] == \"動詞\":\n",
    "            outputs.append(dictline[\"base\"])\n",
    "\n",
    "pprint(sorted(outputs)[0:10])"
   ]
  },
  {
   "cell_type": "markdown",
   "metadata": {},
   "source": [
    "## 33. サ変名詞\n",
    "サ変接続の名詞をすべて抽出せよ．"
   ]
  },
  {
   "cell_type": "code",
   "execution_count": 37,
   "metadata": {},
   "outputs": [
    {
     "name": "stdout",
     "output_type": "stream",
     "text": [
      "[dict_items([('surface', '見当'), ('base', '見当'), ('pos', '名詞'), ('pos1', 'サ変接続')]),\n",
      " dict_items([('surface', '記憶'), ('base', '記憶'), ('pos', '名詞'), ('pos1', 'サ変接続')]),\n",
      " dict_items([('surface', '話'), ('base', '話'), ('pos', '名詞'), ('pos1', 'サ変接続')]),\n",
      " dict_items([('surface', '装飾'), ('base', '装飾'), ('pos', '名詞'), ('pos1', 'サ変接続')]),\n",
      " dict_items([('surface', '突起'), ('base', '突起'), ('pos', '名詞'), ('pos1', 'サ変接続')]),\n",
      " dict_items([('surface', '運転'), ('base', '運転'), ('pos', '名詞'), ('pos1', 'サ変接続')]),\n",
      " dict_items([('surface', '記憶'), ('base', '記憶'), ('pos', '名詞'), ('pos1', 'サ変接続')]),\n",
      " dict_items([('surface', '分別'), ('base', '分別'), ('pos', '名詞'), ('pos1', 'サ変接続')]),\n",
      " dict_items([('surface', '決心'), ('base', '決心'), ('pos', '名詞'), ('pos1', 'サ変接続')]),\n",
      " dict_items([('surface', '我慢'), ('base', '我慢'), ('pos', '名詞'), ('pos1', 'サ変接続')])]\n"
     ]
    }
   ],
   "source": [
    "outputs = list()\n",
    "\n",
    "for listline in for_write:\n",
    "    for dictline in listline:\n",
    "        if dictline[\"pos1\"] == \"サ変接続\" and dictline[\"pos\"] == \"名詞\":\n",
    "            outputs.append(dictline.items())\n",
    "\n",
    "pprint(sorted(outputs)[0:10])"
   ]
  },
  {
   "cell_type": "markdown",
   "metadata": {},
   "source": [
    "## 34. 「AのB」\n",
    "2つの名詞が「の」で連結されている名詞句を抽出せよ．"
   ]
  },
  {
   "cell_type": "code",
   "execution_count": 43,
   "metadata": {},
   "outputs": [
    {
     "name": "stdout",
     "output_type": "stream",
     "text": [
      "['Agnodiceの世話',\n",
      " 'Agnodiceの逸話',\n",
      " 'Hierophilusの講義',\n",
      " 'あいつの事',\n",
      " 'あいつの垣根',\n",
      " 'あいつの娘',\n",
      " 'あいつの御蔭',\n",
      " 'あかの他人',\n",
      " 'あくびの用意',\n",
      " 'あさっての朝']\n"
     ]
    }
   ],
   "source": [
    "outputs = list()\n",
    "\n",
    "for listline in for_write:\n",
    "    if len(listline) >2:\n",
    "        for dictnumber in range(1,len(listline)):\n",
    "            if listline[dictnumber]['surface'] == 'の' \\\n",
    "            and listline[dictnumber - 1]['pos'] == '名詞' \\\n",
    "            and listline[dictnumber + 1]['pos'] == '名詞':\n",
    "                outputs.append(listline[dictnumber - 1]['surface'] + 'の' + listline[dictnumber + 1]['surface'])\n",
    "\n",
    "pprint(sorted(outputs)[0:10])"
   ]
  },
  {
   "cell_type": "markdown",
   "metadata": {},
   "source": [
    "## 35. 名詞の連接\n",
    "名詞の連接（連続して出現する名詞）を最長一致で抽出せよ．"
   ]
  },
  {
   "cell_type": "code",
   "execution_count": null,
   "metadata": {
    "collapsed": true
   },
   "outputs": [],
   "source": [
    "#最長一致とはなるべく長い文字列を得ること（\"A+\"）。逆は最短一致（\"A+?\"）"
   ]
  }
 ],
 "metadata": {
  "kernelspec": {
   "display_name": "Python 3",
   "language": "python",
   "name": "python3"
  },
  "language_info": {
   "codemirror_mode": {
    "name": "ipython",
    "version": 3
   },
   "file_extension": ".py",
   "mimetype": "text/x-python",
   "name": "python",
   "nbconvert_exporter": "python",
   "pygments_lexer": "ipython3",
   "version": "3.6.2"
  },
  "toc": {
   "nav_menu": {},
   "number_sections": true,
   "sideBar": true,
   "skip_h1_title": false,
   "title_cell": "Table of Contents",
   "title_sidebar": "Contents",
   "toc_cell": false,
   "toc_position": {},
   "toc_section_display": true,
   "toc_window_display": false
  }
 },
 "nbformat": 4,
 "nbformat_minor": 2
}
